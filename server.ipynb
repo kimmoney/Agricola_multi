{
 "cells": [
  {
   "cell_type": "code",
   "execution_count": 1,
   "metadata": {},
   "outputs": [],
   "source": [
    "from data.Algorithem.global_repository import*\n",
    "game_status_repository.now_turn_player=1\n",
    "import socket,pickle\n",
    "class Server_Client():\n",
    "    def __init__(self,name=\"HOST\"):\n",
    "        #포트 조회\n",
    "        self.name = name\n",
    "        # self.server_socket = self.start_server()\n",
    "        self.player = {}\n",
    "        self.play_state = \"greenroom\"\n",
    "        # self.start_recieved()\n",
    "        self.maximum_count = 3\n",
    "        pass\n",
    "\n",
    "    def start_server(self,host='0.0.0.0', port=12345):\n",
    "        server_socket = socket.socket(socket.AF_INET, socket.SOCK_STREAM)\n",
    "        server_socket.bind((host, port))\n",
    "        server_socket.listen(5)\n",
    "        print(f'Server listening on {host}:{port}') \n",
    "        return server_socket\n",
    "\n",
    "    def start_recived(self):\n",
    "        global game_status_repository,round_status_repository,player_status_repository\n",
    "        self.server_socket = self.start_server()\n",
    "        while len(self.player) <self.maximum_count and self.play_state == \"greenroom\":\n",
    "            client_socket, addr = self.server_socket.accept()\n",
    "            client_ip = addr[0]\n",
    "            print(f'Connection from {client_ip}')\n",
    "            data_ori = client_socket.recv(1024).decode()\n",
    "            print(data_ori)\n",
    "            if \"|\" in data_ori:\n",
    "                data = data_ori.split(\"|\")[0]\n",
    "                player = data_ori.split(\"|\")[1]\n",
    "            else:data=\"\"\n",
    "            match data:\n",
    "                case \"ping\":\n",
    "                    client_socket.send(f'pong|{self.name}|{len(self.player)}'.encode())\n",
    "                case \"OPEN?\":\n",
    "                    client_socket.send(f'yes'.encode())\n",
    "                case \"JOIN\":\n",
    "                    if len(self.player) ==self.maximum_count :\n",
    "                        client_socket.send(f'Full'.encode())\n",
    "                    else:\n",
    "                        # client_socket.send(f'yes'.encode())\n",
    "                        print(f\"{player} 플레이어가 입장했습니다.\")\n",
    "                        self.player[client_ip,player]=[client_socket,len(self.player)]\n",
    "                        print(self.player)\n",
    "                # case \"start\":\n",
    "                #     client_socket.send(f'Full'.encode())\n",
    "                case \"exit\":\n",
    "                    del self.player[client_ip]\n",
    "                    client_socket.send(f'yes'.encode())\n",
    "                    print(self.player)\n",
    "                    print(f\"{player} 플레이어가 나갔습니다.\")\n",
    "                case _:\n",
    "                    client_socket.send(f'error'.encode())\n",
    "                    print(\"error\")\n",
    "        print(\"게임이 시작되었습니다.\")\n",
    "        self.play_state=\"playing\"\n",
    "        # while self.play_state == \"playing\":\n",
    "        for i in range(len(self.player)):\n",
    "            player_status_repository[i].name=list(self.player.keys())[i]\n",
    "        \n",
    "        for client_socket,player_num in self.player.values():            \n",
    "            client_socket.send(pickle.dumps([game_status_repository,round_status_repository,player_status_repository]))\n",
    "\n",
    "        while self.play_state == \"playing\":\n",
    "            client_socket, addr = self.server_socket.accept()\n",
    "            client_ip = addr[0]\n",
    "            data_ori = client_socket.recv(9192)\n",
    "            # print(f'Connection from {client_ip}')\n",
    "            for i in self.player:\n",
    "                if client_ip in i:\n",
    "                    self.player[i][0]= client_socket\n",
    "            if \"wait|\".encode() in data_ori :\n",
    "                data = data_ori.decode().split(\"|\")[0]\n",
    "                player = data_ori.decode().split(\"|\")[1]\n",
    "                # self.player[client_ip,player][0] = client_socket\n",
    "            else:\n",
    "                print(data_ori)\n",
    "                response = pickle.loads(data_ori)\n",
    "                game_status_repository = response[0]\n",
    "                round_status_repository = response[1]\n",
    "                player_status_repository = response[2]\n",
    "                for client,player_num in self.player.values():\n",
    "                    # client_socket.send(data_ori)\n",
    "                    client.send(pickle.dumps([game_status_repository,round_status_repository,player_status_repository]))\n",
    "            # client_socket.send(data_ori)\n",
    "            # client_socket.send(pick|e.dumps([game_status_repository,round_status_repository,player_status_repository]))\n",
    "            if \"exit\".encode() in data_ori:\n",
    "                self.play_state = \"\"\n",
    "            print(game_status_repository.now_turn_player)\n",
    "        self.server_socket.close()\n",
    "        "
   ]
  },
  {
   "cell_type": "code",
   "execution_count": 2,
   "metadata": {},
   "outputs": [
    {
     "ename": "NameError",
     "evalue": "name 'a' is not defined",
     "output_type": "error",
     "traceback": [
      "\u001b[1;31m---------------------------------------------------------------------------\u001b[0m",
      "\u001b[1;31mNameError\u001b[0m                                 Traceback (most recent call last)",
      "Cell \u001b[1;32mIn[2], line 1\u001b[0m\n\u001b[1;32m----> 1\u001b[0m \u001b[43ma\u001b[49m\u001b[38;5;241m.\u001b[39mserver_socket\u001b[38;5;241m.\u001b[39mclose()\n",
      "\u001b[1;31mNameError\u001b[0m: name 'a' is not defined"
     ]
    }
   ],
   "source": [
    "a.server_socket.close()"
   ]
  },
  {
   "cell_type": "code",
   "execution_count": null,
   "metadata": {},
   "outputs": [],
   "source": []
  },
  {
   "cell_type": "code",
   "execution_count": 3,
   "metadata": {},
   "outputs": [
    {
     "name": "stdout",
     "output_type": "stream",
     "text": [
      "Server listening on 0.0.0.0:12345\n",
      "Connection from 192.168.0.5\n",
      "JOIN|김도훈\n",
      "김도훈 플레이어가 입장했습니다.\n",
      "{('192.168.0.5', '김도훈'): [<socket.socket fd=772, family=2, type=1, proto=0, laddr=('192.168.0.5', 12345), raddr=('192.168.0.5', 57661)>, 0]}\n",
      "Connection from 192.168.0.5\n",
      "OPEN?|김선후\n",
      "Connection from 192.168.0.5\n",
      "JOIN|김선후\n",
      "김선후 플레이어가 입장했습니다.\n",
      "{('192.168.0.5', '김도훈'): [<socket.socket fd=772, family=2, type=1, proto=0, laddr=('192.168.0.5', 12345), raddr=('192.168.0.5', 57661)>, 0], ('192.168.0.5', '김선후'): [<socket.socket fd=1936, family=2, type=1, proto=0, laddr=('192.168.0.5', 12345), raddr=('192.168.0.5', 57668)>, 1]}\n",
      "Connection from 192.168.0.5\n",
      "JOIN|김성훈\n",
      "김성훈 플레이어가 입장했습니다.\n",
      "{('192.168.0.5', '김도훈'): [<socket.socket fd=772, family=2, type=1, proto=0, laddr=('192.168.0.5', 12345), raddr=('192.168.0.5', 57661)>, 0], ('192.168.0.5', '김선후'): [<socket.socket fd=1936, family=2, type=1, proto=0, laddr=('192.168.0.5', 12345), raddr=('192.168.0.5', 57668)>, 1], ('192.168.0.5', '김성훈'): [<socket.socket fd=1952, family=2, type=1, proto=0, laddr=('192.168.0.5', 12345), raddr=('192.168.0.5', 57674)>, 2]}\n",
      "게임이 시작되었습니다.\n",
      "1\n",
      "1\n"
     ]
    }
   ],
   "source": [
    "a = Server_Client()\n",
    "a.start_recived()"
   ]
  },
  {
   "cell_type": "code",
   "execution_count": 4,
   "metadata": {},
   "outputs": [
    {
     "data": {
      "text/plain": [
       "2"
      ]
     },
     "execution_count": 4,
     "metadata": {},
     "output_type": "execute_result"
    }
   ],
   "source": [
    "game_status_repository.now_turn_player"
   ]
  },
  {
   "cell_type": "code",
   "execution_count": 4,
   "metadata": {},
   "outputs": [
    {
     "data": {
      "text/plain": [
       "{('192.168.0.5',\n",
       "  '김도훈'): [<socket.socket fd=1916, family=2, type=1, proto=0, laddr=('192.168.0.5', 12345), raddr=('192.168.0.5', 56594)>, 0],\n",
       " ('192.168.0.5',\n",
       "  '김선후'): [<socket.socket fd=404, family=2, type=1, proto=0, laddr=('192.168.0.5', 12345), raddr=('192.168.0.5', 56596)>, 1]}"
      ]
     },
     "execution_count": 4,
     "metadata": {},
     "output_type": "execute_result"
    }
   ],
   "source": [
    "a.player"
   ]
  },
  {
   "cell_type": "code",
   "execution_count": 7,
   "metadata": {},
   "outputs": [
    {
     "data": {
      "text/plain": [
       "dict_keys([('192.168.0.5', '김도훈'), ('192.168.0.5', '김선후')])"
      ]
     },
     "execution_count": 7,
     "metadata": {},
     "output_type": "execute_result"
    }
   ],
   "source": [
    "a.player.keys()"
   ]
  },
  {
   "cell_type": "code",
   "execution_count": 9,
   "metadata": {},
   "outputs": [
    {
     "name": "stdout",
     "output_type": "stream",
     "text": [
      "('192.168.0.5', '김도훈')\n",
      "('192.168.0.5', '김선후')\n"
     ]
    }
   ],
   "source": [
    "for l in a.player:\n",
    "    print(l)"
   ]
  },
  {
   "cell_type": "code",
   "execution_count": null,
   "metadata": {},
   "outputs": [],
   "source": []
  }
 ],
 "metadata": {
  "kernelspec": {
   "display_name": "Python 3",
   "language": "python",
   "name": "python3"
  },
  "language_info": {
   "codemirror_mode": {
    "name": "ipython",
    "version": 3
   },
   "file_extension": ".py",
   "mimetype": "text/x-python",
   "name": "python",
   "nbconvert_exporter": "python",
   "pygments_lexer": "ipython3",
   "version": "3.12.4"
  }
 },
 "nbformat": 4,
 "nbformat_minor": 2
}
