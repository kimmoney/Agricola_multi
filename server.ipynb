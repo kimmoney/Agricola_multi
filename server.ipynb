{
 "cells": [
  {
   "cell_type": "code",
   "execution_count": 10,
   "metadata": {},
   "outputs": [
    {
     "ename": "OSError",
     "evalue": "[WinError 10048] 각 소켓 주소(프로토콜/네트워크 주소/포트)는 하나만 사용할 수 있습니다",
     "output_type": "error",
     "traceback": [
      "\u001b[1;31m---------------------------------------------------------------------------\u001b[0m",
      "\u001b[1;31mOSError\u001b[0m                                   Traceback (most recent call last)",
      "Cell \u001b[1;32mIn[10], line 18\u001b[0m\n\u001b[0;32m     15\u001b[0m         client_socket\u001b[38;5;241m.\u001b[39mclose()\n\u001b[0;32m     17\u001b[0m \u001b[38;5;28;01mif\u001b[39;00m \u001b[38;5;18m__name__\u001b[39m \u001b[38;5;241m==\u001b[39m \u001b[38;5;124m'\u001b[39m\u001b[38;5;124m__main__\u001b[39m\u001b[38;5;124m'\u001b[39m:\n\u001b[1;32m---> 18\u001b[0m     \u001b[43mstart_server\u001b[49m\u001b[43m(\u001b[49m\u001b[43m)\u001b[49m\n",
      "Cell \u001b[1;32mIn[10], line 5\u001b[0m, in \u001b[0;36mstart_server\u001b[1;34m(host, port)\u001b[0m\n\u001b[0;32m      3\u001b[0m \u001b[38;5;28;01mdef\u001b[39;00m \u001b[38;5;21mstart_server\u001b[39m(host\u001b[38;5;241m=\u001b[39m\u001b[38;5;124m'\u001b[39m\u001b[38;5;124m0.0.0.0\u001b[39m\u001b[38;5;124m'\u001b[39m, port\u001b[38;5;241m=\u001b[39m\u001b[38;5;241m12345\u001b[39m):\n\u001b[0;32m      4\u001b[0m     server_socket \u001b[38;5;241m=\u001b[39m socket\u001b[38;5;241m.\u001b[39msocket(socket\u001b[38;5;241m.\u001b[39mAF_INET, socket\u001b[38;5;241m.\u001b[39mSOCK_STREAM)\n\u001b[1;32m----> 5\u001b[0m     \u001b[43mserver_socket\u001b[49m\u001b[38;5;241;43m.\u001b[39;49m\u001b[43mbind\u001b[49m\u001b[43m(\u001b[49m\u001b[43m(\u001b[49m\u001b[43mhost\u001b[49m\u001b[43m,\u001b[49m\u001b[43m \u001b[49m\u001b[43mport\u001b[49m\u001b[43m)\u001b[49m\u001b[43m)\u001b[49m\n\u001b[0;32m      6\u001b[0m     server_socket\u001b[38;5;241m.\u001b[39mlisten(\u001b[38;5;241m5\u001b[39m)\n\u001b[0;32m      7\u001b[0m     \u001b[38;5;28mprint\u001b[39m(\u001b[38;5;124mf\u001b[39m\u001b[38;5;124m'\u001b[39m\u001b[38;5;124mServer listening on \u001b[39m\u001b[38;5;132;01m{\u001b[39;00mhost\u001b[38;5;132;01m}\u001b[39;00m\u001b[38;5;124m:\u001b[39m\u001b[38;5;132;01m{\u001b[39;00mport\u001b[38;5;132;01m}\u001b[39;00m\u001b[38;5;124m'\u001b[39m)\n",
      "\u001b[1;31mOSError\u001b[0m: [WinError 10048] 각 소켓 주소(프로토콜/네트워크 주소/포트)는 하나만 사용할 수 있습니다"
     ]
    }
   ],
   "source": [
    "import socket\n",
    "\n",
    "def start_server(host='0.0.0.0', port=12345):\n",
    "    server_socket = socket.socket(socket.AF_INET, socket.SOCK_STREAM)\n",
    "    server_socket.bind((host, port))\n",
    "    server_socket.listen(5)\n",
    "    print(f'Server listening on {host}:{port}')\n",
    "\n",
    "    while True:\n",
    "        client_socket, addr = server_socket.accept()\n",
    "        print(f'Connection from {addr}')\n",
    "        data = client_socket.recv(1024).decode()\n",
    "        print(f'Received from client: {data}')\n",
    "        client_socket.send(f'Echo: {data}'.encode())\n",
    "        client_socket.close()\n",
    "\n",
    "if __name__ == '__main__':\n",
    "    start_server()"
   ]
  },
  {
   "cell_type": "code",
   "execution_count": 64,
   "metadata": {},
   "outputs": [
    {
     "name": "stdout",
     "output_type": "stream",
     "text": [
      "Collecting backoff\n",
      "  Downloading backoff-2.2.1-py3-none-any.whl.metadata (14 kB)\n",
      "Downloading backoff-2.2.1-py3-none-any.whl (15 kB)\n",
      "Installing collected packages: backoff\n",
      "Successfully installed backoff-2.2.1\n",
      "Note: you may need to restart the kernel to use updated packages.\n"
     ]
    }
   ],
   "source": [
    "pip install backoff"
   ]
  },
  {
   "cell_type": "code",
   "execution_count": 20,
   "metadata": {},
   "outputs": [],
   "source": [
    "import socket\n",
    "class Server_Client():\n",
    "    def __init__(self,name=\"HOST\"):\n",
    "        #포트 조회\n",
    "        self.name = name\n",
    "        self.server_socket = self.start_server()\n",
    "        self.player = {}\n",
    "        self.play_state = \"greenroom\"\n",
    "        # self.start_recieved()\n",
    "        pass\n",
    "\n",
    "    def start_server(self,host='0.0.0.0', port=12345):\n",
    "        server_socket = socket.socket(socket.AF_INET, socket.SOCK_STREAM)\n",
    "        server_socket.bind((host, port))\n",
    "        server_socket.listen(5)\n",
    "        print(f'Server listening on {host}:{port}') \n",
    "        return server_socket\n",
    "\n",
    "    def start_recived(self):\n",
    "        while len(self.player) <2:\n",
    "            client_socket, addr = self.server_socket.accept()\n",
    "            client_ip = addr[0]\n",
    "            print(f'Connection from {client_ip}')\n",
    "            data_ori = client_socket.recv(1024).decode()\n",
    "            print(data_ori)\n",
    "            if \"|\" in data_ori:\n",
    "                data = data_ori.split(\"|\")[0]\n",
    "                player = data_ori.split(\"|\")[1]\n",
    "            else:data=\"\"\n",
    "            match data:\n",
    "                case \"ping\":\n",
    "                    client_socket.send(f'pong|{self.name}|{len(self.player)}'.encode())\n",
    "                case \"OPEN?\":\n",
    "                    client_socket.send(f'yes'.encode())\n",
    "                case \"JOIN\":\n",
    "                    if len(self.player) ==2 :\n",
    "                        client_socket.send(f'Full'.encode())\n",
    "                    else:\n",
    "                        # client_socket.send(f'yes'.encode())\n",
    "                        print(f\"{player[1]} 플레이어가 입장했습니다.\")\n",
    "                        self.player[client_ip,player]=(client_socket,len(self.player))\n",
    "                        print(self.player)\n",
    "                case \"exit\":\n",
    "                    del self.player[client_ip]\n",
    "                    client_socket.send(f'yes'.encode())\n",
    "                    print(self.player)\n",
    "                    print(f\"{player} 플레이어가 나갔습니다.\")\n",
    "                case _:\n",
    "                    client_socket.send(f'error'.encode())\n",
    "                    print(\"error\")\n",
    "\n",
    "        for client_socket,player_num in self.player.values():\n",
    "            client_socket.send(f'yes : {player_num}'.encode())\n",
    "        \n",
    "        self.server_socket.close()\n",
    "        "
   ]
  },
  {
   "cell_type": "code",
   "execution_count": 21,
   "metadata": {},
   "outputs": [],
   "source": [
    "a.server_socket.close()"
   ]
  },
  {
   "cell_type": "code",
   "execution_count": 22,
   "metadata": {},
   "outputs": [
    {
     "name": "stdout",
     "output_type": "stream",
     "text": [
      "Server listening on 0.0.0.0:12345\n"
     ]
    }
   ],
   "source": [
    "a = Server_Client()"
   ]
  },
  {
   "cell_type": "code",
   "execution_count": 23,
   "metadata": {},
   "outputs": [
    {
     "name": "stdout",
     "output_type": "stream",
     "text": [
      "Connection from 192.168.0.5\n",
      "ping||김도훈\n",
      "Connection from 192.168.0.5\n",
      "ping||김도훈\n"
     ]
    }
   ],
   "source": [
    "a.start_recived()"
   ]
  },
  {
   "cell_type": "code",
   "execution_count": 15,
   "metadata": {},
   "outputs": [],
   "source": [
    "a.server_socket.close()"
   ]
  },
  {
   "cell_type": "code",
   "execution_count": 48,
   "metadata": {},
   "outputs": [],
   "source": [
    "def start_recived(self):\n",
    "    for i in range(20):\n",
    "        client_socket, addr = self.server_socket.accept()\n",
    "        print(f'Connection from {addr}')\n",
    "        data = client_socket.recv(1024).decode()\n",
    "        if data == \"OPEN?\":\n",
    "            client_socket.send(f'yes'.encode())\n",
    "        # client_socket.close()\n",
    "        print(f'Received from client: {data}')"
   ]
  },
  {
   "cell_type": "code",
   "execution_count": 49,
   "metadata": {},
   "outputs": [
    {
     "name": "stdout",
     "output_type": "stream",
     "text": [
      "Connection from ('192.168.0.5', 57984)\n",
      "Received from client: \n",
      "Connection from ('192.168.0.5', 58253)\n",
      "Received from client: \n",
      "Connection from ('192.168.0.5', 58509)\n",
      "Received from client: \n",
      "Connection from ('127.0.0.1', 58761)\n",
      "Received from client: OPEN?\n",
      "Connection from ('127.0.0.1', 58762)\n",
      "Received from client: OPEN?\n",
      "Connection from ('127.0.0.1', 58763)\n",
      "Received from client: OPEN?\n",
      "Connection from ('127.0.0.1', 58764)\n",
      "Received from client: OPEN?\n",
      "Connection from ('127.0.0.1', 58765)\n",
      "Received from client: OPEN?\n",
      "Connection from ('127.0.0.1', 58766)\n",
      "Received from client: OPEN?\n",
      "Connection from ('127.0.0.1', 58768)\n",
      "Received from client: OPEN?\n",
      "Connection from ('127.0.0.1', 58770)\n",
      "Received from client: OPEN?\n",
      "Connection from ('127.0.0.1', 58771)\n",
      "Received from client: OPEN?\n",
      "Connection from ('127.0.0.1', 58772)\n",
      "Received from client: OPEN?\n",
      "Connection from ('127.0.0.1', 58773)\n",
      "Received from client: OPEN?\n",
      "Connection from ('127.0.0.1', 58775)\n",
      "Received from client: OPEN?\n",
      "Connection from ('127.0.0.1', 58776)\n",
      "Received from client: OPEN?\n",
      "Connection from ('127.0.0.1', 58777)\n",
      "Received from client: OPEN?\n",
      "Connection from ('127.0.0.1', 58778)\n",
      "Received from client: OPEN?\n",
      "Connection from ('127.0.0.1', 58780)\n",
      "Received from client: OPEN?\n",
      "Connection from ('127.0.0.1', 58781)\n",
      "Received from client: OPEN?\n"
     ]
    }
   ],
   "source": [
    "a.start_recived = start_recived(a)"
   ]
  }
 ],
 "metadata": {
  "kernelspec": {
   "display_name": "Python 3",
   "language": "python",
   "name": "python3"
  },
  "language_info": {
   "codemirror_mode": {
    "name": "ipython",
    "version": 3
   },
   "file_extension": ".py",
   "mimetype": "text/x-python",
   "name": "python",
   "nbconvert_exporter": "python",
   "pygments_lexer": "ipython3",
   "version": "3.12.4"
  }
 },
 "nbformat": 4,
 "nbformat_minor": 2
}
