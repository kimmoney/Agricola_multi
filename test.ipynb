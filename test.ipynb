{
 "cells": [
  {
   "cell_type": "code",
   "execution_count": 1,
   "metadata": {},
   "outputs": [],
   "source": [
    "from data.Algorithem import *\n",
    "from data.Algorithem.global_repository import game_status_repository,round_status_repository,player_status_repository"
   ]
  },
  {
   "cell_type": "code",
   "execution_count": 2,
   "metadata": {},
   "outputs": [],
   "source": [
    "gameready.round_card_shuffle.RoundCardShuffle()\n",
    "gameready.start_resource_distribution.StartResourceDistribution()\n",
    "gameready.card_distribution.CardDistribution()"
   ]
  },
  {
   "cell_type": "code",
   "execution_count": 3,
   "metadata": {},
   "outputs": [],
   "source": [
    "g = game_status_repository"
   ]
  },
  {
   "cell_type": "code",
   "execution_count": 4,
   "metadata": {},
   "outputs": [],
   "source": [
    "p=player_status_repository"
   ]
  },
  {
   "cell_type": "code",
   "execution_count": 5,
   "metadata": {},
   "outputs": [],
   "source": [
    "r = round_status_repository"
   ]
  },
  {
   "cell_type": "code",
   "execution_count": 6,
   "metadata": {},
   "outputs": [
    {
     "data": {
      "text/plain": [
       "[2, 1, 3, 0, 6, 5, 4, 8, 7, 9, 10, 11, 12, 13]"
      ]
     },
     "execution_count": 6,
     "metadata": {},
     "output_type": "execute_result"
    }
   ],
   "source": [
    "g.round_card_order"
   ]
  },
  {
   "cell_type": "code",
   "execution_count": 7,
   "metadata": {},
   "outputs": [
    {
     "data": {
      "text/plain": [
       "[2, 1, 3, 0, 6, 5, 4, 8, 7, 9, 10, 11, 12, 13]"
      ]
     },
     "execution_count": 7,
     "metadata": {},
     "output_type": "execute_result"
    }
   ],
   "source": [
    "g.round_card_order"
   ]
  },
  {
   "cell_type": "code",
   "execution_count": 8,
   "metadata": {},
   "outputs": [
    {
     "data": {
      "text/plain": [
       "['JunkWarehouse', 'Manger', 'Pincer']"
      ]
     },
     "execution_count": 8,
     "metadata": {},
     "output_type": "execute_result"
    }
   ],
   "source": [
    "p[0].card.hand_sub_card"
   ]
  },
  {
   "cell_type": "code",
   "execution_count": 9,
   "metadata": {},
   "outputs": [
    {
     "data": {
      "text/plain": [
       "['JunkWarehouse', 'Manger', 'Pincer']"
      ]
     },
     "execution_count": 9,
     "metadata": {},
     "output_type": "execute_result"
    }
   ],
   "source": [
    "p[0].card.hand_sub_card"
   ]
  },
  {
   "cell_type": "code",
   "execution_count": null,
   "metadata": {},
   "outputs": [],
   "source": []
  },
  {
   "cell_type": "code",
   "execution_count": 10,
   "metadata": {},
   "outputs": [],
   "source": [
    "import socket\n",
    "import pickle\n",
    "\n",
    "serialized_data = pickle.dumps([g,r,p])"
   ]
  },
  {
   "cell_type": "code",
   "execution_count": 11,
   "metadata": {},
   "outputs": [
    {
     "name": "stdout",
     "output_type": "stream",
     "text": [
      "4609\n"
     ]
    }
   ],
   "source": [
    "print(len(serialized_data))"
   ]
  },
  {
   "cell_type": "code",
   "execution_count": 12,
   "metadata": {},
   "outputs": [],
   "source": [
    "import socket\n",
    "class Server_Client():\n",
    "    def __init__(self):\n",
    "        #포트 조회\n",
    "        self.server_socket = self.start_server()\n",
    "        self.player = {}\n",
    "        self.play_state = \"greenroom\"\n",
    "        # self.start_recieved()\n",
    "        pass\n",
    "\n",
    "    def start_server(self,host='0.0.0.0', port=12345):\n",
    "\n",
    "        # try:\n",
    "        #     server_socket = socket.socket(socket.AF_INET, socket.SOCK_STREAM)\n",
    "        #     server_socket.bind((host, port))\n",
    "        # self.server_socket.close()\n",
    "        # except:pass\n",
    "        server_socket = socket.socket(socket.AF_INET, socket.SOCK_STREAM)\n",
    "        server_socket.bind((host, port))\n",
    "        server_socket.listen(5)\n",
    "        print(f'Server listening on {host}:{port}') \n",
    "        return server_socket\n",
    "\n",
    "    def start_recived(self):\n",
    "        while len(self.player) <4: \n",
    "            client_socket, addr = self.server_socket.accept()\n",
    "            client_ip = addr[0]\n",
    "            print(f'Connection from {client_ip}')\n",
    "            data_ori = client_socket.recv(1024).decode()\n",
    "            print(data_ori)\n",
    "            if \"|\" in data_ori:\n",
    "                data = data_ori.split(\"|\")[0]\n",
    "                player = data_ori.split(\"|\")[1]\n",
    "            else:data=\"\"\n",
    "            match data:\n",
    "                case \"ping\":\n",
    "                    client_socket.send(f'pong'.encode())\n",
    "                case \"OPEN?\":\n",
    "                    client_socket.send(f'yes'.encode())\n",
    "                case \"JOIN\":\n",
    "                    if len(self.player) ==4 :\n",
    "                        client_socket.send(f'Full'.encode())\n",
    "                    else:\n",
    "                        client_socket.send(f'yes'.encode())\n",
    "                        print(f\"{player} 플레이어가 입장했습니다.\")\n",
    "                        self.player[client_ip]=(player,client_socket)\n",
    "                        print(self.player)\n",
    "                case \"exit\":\n",
    "                    del self.player[client_ip]\n",
    "                    client_socket.send(f'yes'.encode())\n",
    "                    print(self.player)\n",
    "                    print(f\"{player} 플레이어가 나갔습니다.\")\n",
    "                case \"DATA\":\n",
    "                    client_socket.send(serialized_data)\n",
    "                    \n",
    "                case _:\n",
    "                    client_socket.send(f'error'.encode())\n",
    "                    print(\"error\")\n",
    "    \n",
    "        print(f'Received from client: {data}')\n",
    "        "
   ]
  },
  {
   "cell_type": "code",
   "execution_count": 13,
   "metadata": {},
   "outputs": [
    {
     "name": "stdout",
     "output_type": "stream",
     "text": [
      "Server listening on 0.0.0.0:12345\n"
     ]
    }
   ],
   "source": [
    "a = Server_Client()"
   ]
  },
  {
   "cell_type": "code",
   "execution_count": 14,
   "metadata": {},
   "outputs": [],
   "source": [
    "# a.server_socket.close()"
   ]
  },
  {
   "cell_type": "code",
   "execution_count": 14,
   "metadata": {},
   "outputs": [
    {
     "name": "stdout",
     "output_type": "stream",
     "text": [
      "Connection from 192.168.0.5\n",
      "DATA|김도훈\n"
     ]
    }
   ],
   "source": [
    "a.start_recived()"
   ]
  },
  {
   "cell_type": "code",
   "execution_count": null,
   "metadata": {},
   "outputs": [],
   "source": []
  }
 ],
 "metadata": {
  "kernelspec": {
   "display_name": "Python 3",
   "language": "python",
   "name": "python3"
  },
  "language_info": {
   "codemirror_mode": {
    "name": "ipython",
    "version": 3
   },
   "file_extension": ".py",
   "mimetype": "text/x-python",
   "name": "python",
   "nbconvert_exporter": "python",
   "pygments_lexer": "ipython3",
   "version": "3.12.4"
  }
 },
 "nbformat": 4,
 "nbformat_minor": 2
}
