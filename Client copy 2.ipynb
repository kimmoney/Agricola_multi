{
 "cells": [
  {
   "cell_type": "code",
   "execution_count": 1,
   "metadata": {},
   "outputs": [],
   "source": [
    "import socket\n",
    "import time\n"
   ]
  },
  {
   "cell_type": "code",
   "execution_count": 10,
   "metadata": {},
   "outputs": [],
   "source": [
    "import socket,time,pickle\n",
    "from data.Algorithem.global_repository import game_status_repository,player_status_repository,round_status_repository\n",
    "class Nomal_Client():\n",
    "    def __init__(self,name):\n",
    "        self.name = \"|\"+name\n",
    "        self.player_num = 2\n",
    "        self.ip_list = []\n",
    "        self.server_ip = \"192.168.0.5\"\n",
    "        \n",
    "    def get_list_Green_room(self):\n",
    "        global game_status_repository,round_status_repository,player_status_repository\n",
    "        s = socket.socket(socket.AF_INET, socket.SOCK_DGRAM)\n",
    "        s.connect((\"8.8.8.8\", 80))\n",
    "        ip_address = s.getsockname()[0]\n",
    "        s.close()\n",
    "        myadress = ip_address\n",
    "        self.ip_list = []\n",
    "        for i in range(255):\n",
    "            ip =  \".\".join(myadress.split(\".\")[:-1])+f\".{i}\"\n",
    "            # try:\n",
    "            try:\n",
    "                s = socket.socket(socket.AF_INET, socket.SOCK_STREAM)\n",
    "                s.settimeout(0.01)  # 타임아웃을 0.01초로 설정\n",
    "                s.connect((ip, 12345))\n",
    "                t = time.time()\n",
    "                s.send(f\"ping|{self.name}\".encode())\n",
    "                response = s.recv(1024).decode()\n",
    "                print((ip,response))\n",
    "                s.close()\n",
    "                self.ip_list.append((ip,response))\n",
    "                print(f\"connecting ip : {ip}\")\n",
    "            except:pass\n",
    "            # except (socket.timeout, socket.error):\n",
    "            #     pass\n",
    "        return self.ip_list\n",
    "    \n",
    "    def send_client(self,message, server_port=12345):\n",
    "        self.client_socket = socket.socket(socket.AF_INET, socket.SOCK_STREAM)\n",
    "        self.client_socket.connect((self.server_ip, server_port))\n",
    "        if type(message) == str:\n",
    "            message +=self.name \n",
    "        t = time.time()\n",
    "        try:\n",
    "            self.client_socket.send(message.encode())\n",
    "        except:\n",
    "            self.client_socket.send(pickle.dumps(message))\n",
    "        response = self.client_socket.recv(9192)\n",
    "        self.client_socket.close()\n",
    "\n",
    "        print(len(response))\n",
    "        if len(response) < 3000:\n",
    "            response = response.decode()\n",
    "            print(f\"ping :{time.time() - t}ms\")\n",
    "            print(f'Received from server: {response}')\n",
    "            if \"player_num\" in response:\n",
    "                self.player_num == int(response.split('|')[1])\n",
    "        else:\n",
    "            \n",
    "            print(\"h\")\n",
    "            response = pickle.loads(response)\n",
    "            print(\"h\")\n",
    "            game_status_repository = response[0]\n",
    "            round_status_repository = response[1]\n",
    "            player_status_repository = response[2]\n",
    "            print(game_status_repository.now_turn_player, self.player_num)\n",
    "            if game_status_repository.now_turn_player != self.player_num:\n",
    "                self.send_client(\"wait\")\n"
   ]
  },
  {
   "cell_type": "code",
   "execution_count": 11,
   "metadata": {},
   "outputs": [],
   "source": [
    "client = Nomal_Client(\"김성훈\")"
   ]
  },
  {
   "cell_type": "code",
   "execution_count": 12,
   "metadata": {},
   "outputs": [],
   "source": [
    "# client.get_list_Green_room()"
   ]
  },
  {
   "cell_type": "code",
   "execution_count": 13,
   "metadata": {},
   "outputs": [],
   "source": [
    "# client.send_client(\"exit\")\n"
   ]
  },
  {
   "cell_type": "code",
   "execution_count": 14,
   "metadata": {},
   "outputs": [
    {
     "name": "stdout",
     "output_type": "stream",
     "text": [
      "4340\n",
      "h\n",
      "h\n",
      "1 2\n"
     ]
    }
   ],
   "source": [
    "client.send_client(\"JOIN\")"
   ]
  },
  {
   "cell_type": "code",
   "execution_count": 24,
   "metadata": {},
   "outputs": [],
   "source": [
    "game_status_repository.now_turn_player = 1"
   ]
  },
  {
   "cell_type": "code",
   "execution_count": 25,
   "metadata": {},
   "outputs": [
    {
     "name": "stdout",
     "output_type": "stream",
     "text": [
      "4314\n",
      "h\n",
      "h\n",
      "1 2\n",
      "0\n",
      "ping :8.381637334823608ms\n",
      "Received from server: \n"
     ]
    }
   ],
   "source": [
    "client.send_client([game_status_repository,round_status_repository,player_status_repository])"
   ]
  },
  {
   "cell_type": "code",
   "execution_count": 26,
   "metadata": {},
   "outputs": [
    {
     "data": {
      "text/plain": [
       "1"
      ]
     },
     "execution_count": 26,
     "metadata": {},
     "output_type": "execute_result"
    }
   ],
   "source": [
    "game_status_repository.now_turn_player"
   ]
  },
  {
   "cell_type": "code",
   "execution_count": 23,
   "metadata": {},
   "outputs": [
    {
     "name": "stdout",
     "output_type": "stream",
     "text": [
      "4314\n",
      "h\n",
      "h\n",
      "2 2\n"
     ]
    }
   ],
   "source": [
    "client.send_client([game_status_repository,round_status_repository,player_status_repository])"
   ]
  },
  {
   "cell_type": "code",
   "execution_count": 15,
   "metadata": {},
   "outputs": [
    {
     "data": {
      "text/plain": [
       "1"
      ]
     },
     "execution_count": 15,
     "metadata": {},
     "output_type": "execute_result"
    }
   ],
   "source": [
    "game_status_repository.now_turn_player"
   ]
  },
  {
   "cell_type": "code",
   "execution_count": null,
   "metadata": {},
   "outputs": [
    {
     "ename": "ConnectionResetError",
     "evalue": "[WinError 10054] 현재 연결은 원격 호스트에 의해 강제로 끊겼습니다",
     "output_type": "error",
     "traceback": [
      "\u001b[1;31m---------------------------------------------------------------------------\u001b[0m",
      "\u001b[1;31mConnectionResetError\u001b[0m                      Traceback (most recent call last)",
      "Cell \u001b[1;32mIn[9], line 1\u001b[0m\n\u001b[1;32m----> 1\u001b[0m \u001b[43mclient\u001b[49m\u001b[38;5;241;43m.\u001b[39;49m\u001b[43msend_client\u001b[49m\u001b[43m(\u001b[49m\u001b[43m[\u001b[49m\u001b[43mgame_status_repository\u001b[49m\u001b[43m,\u001b[49m\u001b[43mround_status_repository\u001b[49m\u001b[43m,\u001b[49m\u001b[43mplayer_status_repository\u001b[49m\u001b[43m]\u001b[49m\u001b[43m)\u001b[49m\n",
      "Cell \u001b[1;32mIn[1], line 46\u001b[0m, in \u001b[0;36mNomal_Client.send_client\u001b[1;34m(self, message, server_port)\u001b[0m\n\u001b[0;32m     44\u001b[0m \u001b[38;5;28;01mexcept\u001b[39;00m:\n\u001b[0;32m     45\u001b[0m     \u001b[38;5;28mself\u001b[39m\u001b[38;5;241m.\u001b[39mclient_socket\u001b[38;5;241m.\u001b[39msend(pickle\u001b[38;5;241m.\u001b[39mdumps(message))\n\u001b[1;32m---> 46\u001b[0m response \u001b[38;5;241m=\u001b[39m \u001b[38;5;28;43mself\u001b[39;49m\u001b[38;5;241;43m.\u001b[39;49m\u001b[43mclient_socket\u001b[49m\u001b[38;5;241;43m.\u001b[39;49m\u001b[43mrecv\u001b[49m\u001b[43m(\u001b[49m\u001b[38;5;241;43m9192\u001b[39;49m\u001b[43m)\u001b[49m\n\u001b[0;32m     47\u001b[0m \u001b[38;5;28mself\u001b[39m\u001b[38;5;241m.\u001b[39mclient_socket\u001b[38;5;241m.\u001b[39mclose()\n\u001b[0;32m     49\u001b[0m \u001b[38;5;28mprint\u001b[39m(\u001b[38;5;28mlen\u001b[39m(response))\n",
      "\u001b[1;31mConnectionResetError\u001b[0m: [WinError 10054] 현재 연결은 원격 호스트에 의해 강제로 끊겼습니다"
     ]
    }
   ],
   "source": [
    "client.send_client([game_status_repository,round_status_repository,player_status_repository])"
   ]
  },
  {
   "cell_type": "code",
   "execution_count": null,
   "metadata": {},
   "outputs": [
    {
     "name": "stdout",
     "output_type": "stream",
     "text": [
      "Received from server: yes\n"
     ]
    }
   ],
   "source": [
    "client.send_client(\"exit\")"
   ]
  },
  {
   "cell_type": "code",
   "execution_count": null,
   "metadata": {},
   "outputs": [],
   "source": [
    "from data.Algorithem import *\n",
    "from data.Algorithem.global_repository import game_status_repository,round_status_repository,player_status_repository"
   ]
  },
  {
   "cell_type": "code",
   "execution_count": null,
   "metadata": {},
   "outputs": [],
   "source": [
    "import pickle"
   ]
  },
  {
   "cell_type": "code",
   "execution_count": null,
   "metadata": {},
   "outputs": [],
   "source": [
    "g = game_status_repository = data[0]\n",
    "r = round_status_repository = data[1]\n",
    "p=player_status_repository = data[2]"
   ]
  },
  {
   "cell_type": "code",
   "execution_count": null,
   "metadata": {},
   "outputs": [],
   "source": []
  },
  {
   "cell_type": "code",
   "execution_count": null,
   "metadata": {},
   "outputs": [
    {
     "data": {
      "text/plain": [
       "['Pincer', 'Basket', 'Pitchfork']"
      ]
     },
     "execution_count": 59,
     "metadata": {},
     "output_type": "execute_result"
    }
   ],
   "source": [
    "p[0].card.hand_sub_card"
   ]
  },
  {
   "cell_type": "code",
   "execution_count": null,
   "metadata": {},
   "outputs": [
    {
     "data": {
      "text/plain": [
       "[3, 1, 0, 2, 5, 6, 4, 8, 7, 9, 10, 11, 12, 13]"
      ]
     },
     "execution_count": 62,
     "metadata": {},
     "output_type": "execute_result"
    }
   ],
   "source": [
    "game_status_repository.round_card_order"
   ]
  },
  {
   "cell_type": "code",
   "execution_count": null,
   "metadata": {},
   "outputs": [
    {
     "data": {
      "text/plain": [
       "0"
      ]
     },
     "execution_count": 60,
     "metadata": {},
     "output_type": "execute_result"
    }
   ],
   "source": [
    "g.now_turn_player"
   ]
  },
  {
   "cell_type": "code",
   "execution_count": null,
   "metadata": {},
   "outputs": [
    {
     "data": {
      "text/plain": [
       "['JunkWarehouse', 'Manger', 'Pincer']"
      ]
     },
     "execution_count": 65,
     "metadata": {},
     "output_type": "execute_result"
    }
   ],
   "source": [
    "p[0].card.hand_sub_card"
   ]
  },
  {
   "cell_type": "code",
   "execution_count": null,
   "metadata": {},
   "outputs": [
    {
     "data": {
      "text/plain": [
       "[2, 1, 3, 0, 6, 5, 4, 8, 7, 9, 10, 11, 12, 13]"
      ]
     },
     "execution_count": 66,
     "metadata": {},
     "output_type": "execute_result"
    }
   ],
   "source": [
    "game_status_repository.round_card_order"
   ]
  },
  {
   "cell_type": "code",
   "execution_count": null,
   "metadata": {},
   "outputs": [],
   "source": []
  }
 ],
 "metadata": {
  "kernelspec": {
   "display_name": "Python 3",
   "language": "python",
   "name": "python3"
  },
  "language_info": {
   "codemirror_mode": {
    "name": "ipython",
    "version": 3
   },
   "file_extension": ".py",
   "mimetype": "text/x-python",
   "name": "python",
   "nbconvert_exporter": "python",
   "pygments_lexer": "ipython3",
   "version": "3.12.4"
  }
 },
 "nbformat": 4,
 "nbformat_minor": 2
}
