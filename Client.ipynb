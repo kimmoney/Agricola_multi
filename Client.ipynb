{
 "cells": [
  {
   "cell_type": "code",
   "execution_count": null,
   "metadata": {},
   "outputs": [],
   "source": [
    "import socket\n",
    "import time\n"
   ]
  },
  {
   "cell_type": "code",
   "execution_count": 22,
   "metadata": {},
   "outputs": [],
   "source": [
    "import socket,time,pickle\n",
    "from data.Algorithem.global_repository import game_status_repository,player_status_repository,round_status_repository\n",
    "class Nomal_Client():\n",
    "    def __init__(self,name):\n",
    "        self.name = name\n",
    "        self.ip_list = []\n",
    "        self.server_ip = \"192.168.0.5\"\n",
    "        \n",
    "    def get_list_Green_room(self):\n",
    "        global game_status_repository,round_status_repository,player_status_repository\n",
    "        s = socket.socket(socket.AF_INET, socket.SOCK_DGRAM)\n",
    "        s.connect((\"8.8.8.8\", 80))\n",
    "        ip_address = s.getsockname()[0]\n",
    "        s.close()\n",
    "        myadress = ip_address\n",
    "        self.ip_list = []\n",
    "        for i in range(255):\n",
    "            ip =  \".\".join(myadress.split(\".\")[:-1])+f\".{i}\"\n",
    "            ip = \"192.168.0.5\"\n",
    "            # try:\n",
    "            # try:\n",
    "            s = socket.socket(socket.AF_INET, socket.SOCK_STREAM)\n",
    "            s.settimeout(0.01)  # 타임아웃을 0.01초로 설정\n",
    "            s.connect((ip, 12345))\n",
    "            t = time.time()\n",
    "            s.send(pickle.dumps([\"ping\",self.name]))\n",
    "            response = pickle.loads(s.recv(1024))\n",
    "            print((ip,response))\n",
    "            s.close()\n",
    "            self.ip_list.append((ip,response))\n",
    "            print(f\"connecting ip : {ip}\")\n",
    "            # except:pass\n",
    "            # except (socket.timeout, socket.error):\n",
    "            #     pass\n",
    "        return self.ip_list\n",
    "    \n",
    "    def send_client(self,message, server_port=12345):\n",
    "        global game_status_repository,round_status_repository,player_status_repository\n",
    "        self.client_socket = socket.socket(socket.AF_INET, socket.SOCK_STREAM)\n",
    "        self.client_socket.connect((self.server_ip, server_port))\n",
    "        if message == \"process\":\n",
    "            message =[game_status_repository,round_status_repository,player_status_repository,\"\",\"\"]\n",
    "        else:\n",
    "            message = [message]\n",
    "        message.append(self.name)\n",
    "        message.append(self.name)\n",
    "        t = time.time()\n",
    "        self.client_socket.send(pickle.dumps(message))\n",
    "        response = self.client_socket.recv(9192)\n",
    "        print(len(response))\n",
    "        self.client_socket.close()\n",
    "        response = pickle.loads(response)\n",
    "        print(response)\n",
    "\n",
    "        if len(response) < 4:\n",
    "            print(f\"ping :{time.time() - t}ms\")\n",
    "            print(f'Received from server: {response}')\n",
    "            #입장 완료\n",
    "        else:\n",
    "            game_status_repository = response[0]\n",
    "            round_status_repository = response[1]\n",
    "            player_status_repository = response[2]\n",
    "            print(game_status_repository.now_turn_player, self.name)\n",
    "            if game_status_repository.now_turn_player != self.name and game_status_repository.status == \"start\":\n",
    "                self.send_client(\"process\")\n",
    "            if game_status_repository.status == \"greenroom\" and player_status_repository[self.name].ready:\n",
    "                self.send_client(\"process\")\n",
    " "
   ]
  },
  {
   "cell_type": "code",
   "execution_count": 25,
   "metadata": {},
   "outputs": [],
   "source": [
    "client = Nomal_Client(\"김선후\")"
   ]
  },
  {
   "cell_type": "code",
   "execution_count": 26,
   "metadata": {},
   "outputs": [
    {
     "name": "stdout",
     "output_type": "stream",
     "text": [
      "('192.168.0.5', ['pong', 'HOST', 1])\n",
      "connecting ip : 192.168.0.5\n"
     ]
    },
    {
     "data": {
      "text/plain": [
       "[('192.168.0.5', ['pong', 'HOST', 1])]"
      ]
     },
     "execution_count": 26,
     "metadata": {},
     "output_type": "execute_result"
    }
   ],
   "source": [
    "client.get_list_Green_room()"
   ]
  },
  {
   "cell_type": "code",
   "execution_count": null,
   "metadata": {},
   "outputs": [],
   "source": [
    "client.send_client(\"JOIN\")"
   ]
  },
  {
   "cell_type": "code",
   "execution_count": null,
   "metadata": {},
   "outputs": [],
   "source": [
    "player_status_repository[client.name].ready = True\n",
    "client.send_client(\"process\")"
   ]
  },
  {
   "cell_type": "code",
   "execution_count": null,
   "metadata": {},
   "outputs": [],
   "source": [
    "game_status_repository.next = True\n",
    "game_status_repository.next_player()\n",
    "client.send_client(\"process\")"
   ]
  },
  {
   "cell_type": "code",
   "execution_count": null,
   "metadata": {},
   "outputs": [],
   "source": [
    "import random\n",
    "sub_card = [\"Basket\",\"Bottle\",\"Canoe\",\"GiantFarm\",\"GrainShovel\",\"JunkWarehouse\",\"LoamMiningSite\",\"Manger\",\"Pincer\",\"Pitchfork\",\"SilPan\",\"WoolBlanket\"]\n",
    "print(sub_card)\n",
    "random.shuffle(sub_card)\n",
    "print(sub_card)"
   ]
  },
  {
   "cell_type": "code",
   "execution_count": null,
   "metadata": {},
   "outputs": [],
   "source": [
    "a = []\n",
    "a.append(sub_card.pop(0))\n",
    "a.append(sub_card.pop(0))\n",
    "a.append(sub_card.pop(0))\n",
    "a"
   ]
  },
  {
   "cell_type": "code",
   "execution_count": null,
   "metadata": {},
   "outputs": [],
   "source": [
    "player_status_repository[0].image"
   ]
  },
  {
   "cell_type": "code",
   "execution_count": null,
   "metadata": {},
   "outputs": [],
   "source": [
    "client.send_client([game_status_repository,round_status_repository,player_status_repository])"
   ]
  },
  {
   "cell_type": "code",
   "execution_count": null,
   "metadata": {},
   "outputs": [],
   "source": [
    "print(game_status_repository.now_turn_player)"
   ]
  },
  {
   "cell_type": "code",
   "execution_count": null,
   "metadata": {},
   "outputs": [],
   "source": [
    "client.__dict__"
   ]
  },
  {
   "cell_type": "code",
   "execution_count": null,
   "metadata": {},
   "outputs": [],
   "source": [
    "print(game_status_repository.__dict__)"
   ]
  },
  {
   "cell_type": "code",
   "execution_count": null,
   "metadata": {},
   "outputs": [],
   "source": [
    "player_status_repository[1].image=\"1\""
   ]
  },
  {
   "cell_type": "code",
   "execution_count": null,
   "metadata": {},
   "outputs": [],
   "source": [
    "player_status_repository[1].image=\"[[[[[]]]]]\" "
   ]
  },
  {
   "cell_type": "code",
   "execution_count": null,
   "metadata": {},
   "outputs": [],
   "source": [
    "player_status_repository[1] "
   ]
  },
  {
   "cell_type": "code",
   "execution_count": null,
   "metadata": {},
   "outputs": [],
   "source": [
    "client.send_client([game_status_repository,round_status_repository,player_status_repository])"
   ]
  },
  {
   "cell_type": "code",
   "execution_count": null,
   "metadata": {},
   "outputs": [],
   "source": [
    "game_status_repository.now_turn_player = 2"
   ]
  },
  {
   "cell_type": "code",
   "execution_count": null,
   "metadata": {},
   "outputs": [],
   "source": [
    "client.send_client([game_status_repository,round_status_repository,player_status_repository])"
   ]
  },
  {
   "cell_type": "code",
   "execution_count": null,
   "metadata": {},
   "outputs": [],
   "source": [
    "self.client.message = [game_status_repository,round_status_repository,player_status_repository]"
   ]
  },
  {
   "cell_type": "code",
   "execution_count": null,
   "metadata": {},
   "outputs": [],
   "source": []
  },
  {
   "cell_type": "code",
   "execution_count": null,
   "metadata": {},
   "outputs": [],
   "source": [
    "client.send_client(\"exit\")"
   ]
  },
  {
   "cell_type": "code",
   "execution_count": null,
   "metadata": {},
   "outputs": [],
   "source": [
    "player_status_repository[0].card.hand_job_card"
   ]
  },
  {
   "cell_type": "code",
   "execution_count": null,
   "metadata": {},
   "outputs": [],
   "source": [
    "from data.Algorithem import *\n",
    "from data.Algorithem.global_repository import game_status_repository,round_status_repository,player_status_repository"
   ]
  },
  {
   "cell_type": "code",
   "execution_count": null,
   "metadata": {},
   "outputs": [],
   "source": [
    "import pickle"
   ]
  },
  {
   "cell_type": "code",
   "execution_count": null,
   "metadata": {},
   "outputs": [],
   "source": [
    "g = game_status_repository = data[0]\n",
    "r = round_status_repository = data[1]\n",
    "p=player_status_repository = data[2]"
   ]
  },
  {
   "cell_type": "code",
   "execution_count": null,
   "metadata": {},
   "outputs": [],
   "source": []
  },
  {
   "cell_type": "code",
   "execution_count": null,
   "metadata": {},
   "outputs": [],
   "source": [
    "p[0].card.hand_sub_card"
   ]
  },
  {
   "cell_type": "code",
   "execution_count": null,
   "metadata": {},
   "outputs": [],
   "source": [
    "game_status_repository.round_card_order = [3, 1, 0, 2, 5, 6, 4, 8, 7, 9, 10, 11, 12, 13]"
   ]
  },
  {
   "cell_type": "code",
   "execution_count": null,
   "metadata": {},
   "outputs": [],
   "source": [
    "g.now_turn_player"
   ]
  },
  {
   "cell_type": "code",
   "execution_count": null,
   "metadata": {},
   "outputs": [],
   "source": [
    "p[0].card.hand_sub_card"
   ]
  },
  {
   "cell_type": "code",
   "execution_count": null,
   "metadata": {},
   "outputs": [],
   "source": [
    "game_status_repository.round_card_order"
   ]
  },
  {
   "cell_type": "code",
   "execution_count": null,
   "metadata": {},
   "outputs": [],
   "source": []
  }
 ],
 "metadata": {
  "kernelspec": {
   "display_name": "Python 3",
   "language": "python",
   "name": "python3"
  },
  "language_info": {
   "codemirror_mode": {
    "name": "ipython",
    "version": 3
   },
   "file_extension": ".py",
   "mimetype": "text/x-python",
   "name": "python",
   "nbconvert_exporter": "python",
   "pygments_lexer": "ipython3",
   "version": "3.12.4"
  }
 },
 "nbformat": 4,
 "nbformat_minor": 2
}
