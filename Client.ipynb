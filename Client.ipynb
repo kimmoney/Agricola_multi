{
 "cells": [
  {
   "cell_type": "code",
   "execution_count": 3,
   "metadata": {},
   "outputs": [],
   "source": [
    "import socket\n",
    "import time"
   ]
  },
  {
   "cell_type": "code",
   "execution_count": 13,
   "metadata": {},
   "outputs": [],
   "source": [
    "import socket,time,pickle\n",
    "class Nomal_Client():\n",
    "    def __init__(self,name):\n",
    "        self.name = \"|\"+name\n",
    "\n",
    "        self.ip_list = []\n",
    "        \n",
    "    def get_list_Green_room(self):\n",
    "        s = socket.socket(socket.AF_INET, socket.SOCK_DGRAM)\n",
    "        s.connect((\"8.8.8.8\", 80))\n",
    "        ip_address = s.getsockname()[0]\n",
    "        s.close()\n",
    "        myadress = ip_address\n",
    "        self.ip_list = []\n",
    "        for i in range(255):\n",
    "            ip =  \".\".join(myadress.split(\".\")[:-1])+f\".{i}\"\n",
    "            # try:\n",
    "            try:\n",
    "                s = socket.socket(socket.AF_INET, socket.SOCK_STREAM)\n",
    "                s.settimeout(0.01)  # 타임아웃을 0.01초로 설정\n",
    "                s.connect((ip, 12345))\n",
    "                t = time.time()\n",
    "                s.send(f\"ping|{self.name}\".encode())\n",
    "                response = s.recv(1024).decode()\n",
    "                print(response)\n",
    "                print(f\"ping :{time.time() - t}ms\")\n",
    "                s.close()\n",
    "                self.ip_list.append((ip,response))\n",
    "                print(f\"connecting ip : {ip}\")\n",
    "            except:pass\n",
    "            # except (socket.timeout, socket.error):\n",
    "            #     pass\n",
    "        return self.ip_list\n",
    "    \n",
    "    def send_client(self,message,server_ip=\"192.168.0.5\", server_port=12345):\n",
    "        self.client_socket = socket.socket(socket.AF_INET, socket.SOCK_STREAM)\n",
    "        self.client_socket.connect((server_ip, server_port))\n",
    "        message +=self.name\n",
    "        t = time.time()\n",
    "        self.client_socket.send(message.encode())\n",
    "        response = self.client_socket.recv(9192)\n",
    "        self.client_socket.close()\n",
    "        try:\n",
    "            response = response.decode()\n",
    "            print(f\"ping :{time.time() - t}ms\")\n",
    "            print(f'Received from server: {response}')\n",
    "        except:\n",
    "            response = pickle.loads(response)\n",
    "        return response\n"
   ]
  },
  {
   "cell_type": "code",
   "execution_count": 14,
   "metadata": {},
   "outputs": [],
   "source": [
    "client = Nomal_Client(\"김도훈\")"
   ]
  },
  {
   "cell_type": "code",
   "execution_count": 15,
   "metadata": {},
   "outputs": [
    {
     "name": "stdout",
     "output_type": "stream",
     "text": [
      "pong|HOST|0\n",
      "ping :0.0ms\n",
      "connecting ip : 192.168.0.5\n"
     ]
    },
    {
     "data": {
      "text/plain": [
       "[('192.168.0.5', 'pong|HOST|0')]"
      ]
     },
     "execution_count": 15,
     "metadata": {},
     "output_type": "execute_result"
    }
   ],
   "source": [
    "client.get_list_Green_room()"
   ]
  },
  {
   "cell_type": "code",
   "execution_count": 3,
   "metadata": {},
   "outputs": [
    {
     "name": "stdout",
     "output_type": "stream",
     "text": [
      "ping :0.0ms\n",
      "Received from server: yes\n"
     ]
    },
    {
     "data": {
      "text/plain": [
       "'yes'"
      ]
     },
     "execution_count": 3,
     "metadata": {},
     "output_type": "execute_result"
    }
   ],
   "source": [
    "client.send_client(\"OPEN?\")"
   ]
  },
  {
   "cell_type": "code",
   "execution_count": 11,
   "metadata": {},
   "outputs": [
    {
     "name": "stdout",
     "output_type": "stream",
     "text": [
      "ping :0.001071929931640625ms\n",
      "Received from server: yes : 1\n"
     ]
    },
    {
     "data": {
      "text/plain": [
       "'yes : 1'"
      ]
     },
     "execution_count": 11,
     "metadata": {},
     "output_type": "execute_result"
    }
   ],
   "source": [
    "client.send_client(\"JOIN\")"
   ]
  },
  {
   "cell_type": "code",
   "execution_count": 61,
   "metadata": {},
   "outputs": [],
   "source": [
    "data = client.send_client(\"DATA\")"
   ]
  },
  {
   "cell_type": "code",
   "execution_count": 9,
   "metadata": {},
   "outputs": [
    {
     "name": "stdout",
     "output_type": "stream",
     "text": [
      "Received from server: yes\n"
     ]
    }
   ],
   "source": [
    "client.send_client(\"exit\")"
   ]
  },
  {
   "cell_type": "code",
   "execution_count": 19,
   "metadata": {},
   "outputs": [],
   "source": [
    "from data.Algorithem import *\n",
    "from data.Algorithem.global_repository import game_status_repository,round_status_repository,player_status_repository"
   ]
  },
  {
   "cell_type": "code",
   "execution_count": 21,
   "metadata": {},
   "outputs": [],
   "source": [
    "import pickle"
   ]
  },
  {
   "cell_type": "code",
   "execution_count": 63,
   "metadata": {},
   "outputs": [],
   "source": [
    "p=player_status_repository = data[2]"
   ]
  },
  {
   "cell_type": "code",
   "execution_count": 64,
   "metadata": {},
   "outputs": [],
   "source": [
    "g = game_status_repository = data[0]\n",
    "r = round_status_repository = data[1]"
   ]
  },
  {
   "cell_type": "code",
   "execution_count": 59,
   "metadata": {},
   "outputs": [
    {
     "data": {
      "text/plain": [
       "['Pincer', 'Basket', 'Pitchfork']"
      ]
     },
     "execution_count": 59,
     "metadata": {},
     "output_type": "execute_result"
    }
   ],
   "source": [
    "p[0].card.hand_sub_card"
   ]
  },
  {
   "cell_type": "code",
   "execution_count": 62,
   "metadata": {},
   "outputs": [
    {
     "data": {
      "text/plain": [
       "[3, 1, 0, 2, 5, 6, 4, 8, 7, 9, 10, 11, 12, 13]"
      ]
     },
     "execution_count": 62,
     "metadata": {},
     "output_type": "execute_result"
    }
   ],
   "source": [
    "game_status_repository.round_card_order"
   ]
  },
  {
   "cell_type": "code",
   "execution_count": 60,
   "metadata": {},
   "outputs": [
    {
     "data": {
      "text/plain": [
       "0"
      ]
     },
     "execution_count": 60,
     "metadata": {},
     "output_type": "execute_result"
    }
   ],
   "source": [
    "g.now_turn_player"
   ]
  },
  {
   "cell_type": "code",
   "execution_count": 65,
   "metadata": {},
   "outputs": [
    {
     "data": {
      "text/plain": [
       "['JunkWarehouse', 'Manger', 'Pincer']"
      ]
     },
     "execution_count": 65,
     "metadata": {},
     "output_type": "execute_result"
    }
   ],
   "source": [
    "p[0].card.hand_sub_card"
   ]
  },
  {
   "cell_type": "code",
   "execution_count": 66,
   "metadata": {},
   "outputs": [
    {
     "data": {
      "text/plain": [
       "[2, 1, 3, 0, 6, 5, 4, 8, 7, 9, 10, 11, 12, 13]"
      ]
     },
     "execution_count": 66,
     "metadata": {},
     "output_type": "execute_result"
    }
   ],
   "source": [
    "game_status_repository.round_card_order"
   ]
  },
  {
   "cell_type": "code",
   "execution_count": null,
   "metadata": {},
   "outputs": [],
   "source": []
  }
 ],
 "metadata": {
  "kernelspec": {
   "display_name": "Python 3",
   "language": "python",
   "name": "python3"
  },
  "language_info": {
   "codemirror_mode": {
    "name": "ipython",
    "version": 3
   },
   "file_extension": ".py",
   "mimetype": "text/x-python",
   "name": "python",
   "nbconvert_exporter": "python",
   "pygments_lexer": "ipython3",
   "version": "3.12.4"
  }
 },
 "nbformat": 4,
 "nbformat_minor": 2
}
