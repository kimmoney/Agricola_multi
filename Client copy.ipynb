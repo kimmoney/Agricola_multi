{
 "cells": [
  {
   "cell_type": "code",
   "execution_count": 3,
   "metadata": {},
   "outputs": [],
   "source": [
    "import socket\n",
    "import time"
   ]
  },
  {
   "cell_type": "code",
   "execution_count": 1,
   "metadata": {},
   "outputs": [
    {
     "ename": "NameError",
     "evalue": "name 'socket' is not defined",
     "output_type": "error",
     "traceback": [
      "\u001b[1;31m---------------------------------------------------------------------------\u001b[0m",
      "\u001b[1;31mNameError\u001b[0m                                 Traceback (most recent call last)",
      "Cell \u001b[1;32mIn[1], line 27\u001b[0m\n\u001b[0;32m     23\u001b[0m         \u001b[38;5;66;03m# except (socket.timeout, socket.error):\u001b[39;00m\n\u001b[0;32m     24\u001b[0m         \u001b[38;5;66;03m#     pass\u001b[39;00m\n\u001b[0;32m     25\u001b[0m     \u001b[38;5;28;01mreturn\u001b[39;00m ip_list\n\u001b[1;32m---> 27\u001b[0m green_room \u001b[38;5;241m=\u001b[39m \u001b[43mget_list_Green_room\u001b[49m\u001b[43m(\u001b[49m\u001b[38;5;124;43m\"\u001b[39;49m\u001b[38;5;124;43m김도훈\u001b[39;49m\u001b[38;5;124;43m\"\u001b[39;49m\u001b[43m)\u001b[49m\n",
      "Cell \u001b[1;32mIn[1], line 2\u001b[0m, in \u001b[0;36mget_list_Green_room\u001b[1;34m(name)\u001b[0m\n\u001b[0;32m      1\u001b[0m \u001b[38;5;28;01mdef\u001b[39;00m \u001b[38;5;21mget_list_Green_room\u001b[39m(name):\n\u001b[1;32m----> 2\u001b[0m     s \u001b[38;5;241m=\u001b[39m \u001b[43msocket\u001b[49m\u001b[38;5;241m.\u001b[39msocket(socket\u001b[38;5;241m.\u001b[39mAF_INET, socket\u001b[38;5;241m.\u001b[39mSOCK_DGRAM)\n\u001b[0;32m      3\u001b[0m     s\u001b[38;5;241m.\u001b[39mconnect((\u001b[38;5;124m\"\u001b[39m\u001b[38;5;124m8.8.8.8\u001b[39m\u001b[38;5;124m\"\u001b[39m, \u001b[38;5;241m80\u001b[39m))\n\u001b[0;32m      4\u001b[0m     ip_address \u001b[38;5;241m=\u001b[39m s\u001b[38;5;241m.\u001b[39mgetsockname()[\u001b[38;5;241m0\u001b[39m]\n",
      "\u001b[1;31mNameError\u001b[0m: name 'socket' is not defined"
     ]
    }
   ],
   "source": [
    "def get_list_Green_room(name):\n",
    "    s = socket.socket(socket.AF_INET, socket.SOCK_DGRAM)\n",
    "    s.connect((\"8.8.8.8\", 80))\n",
    "    ip_address = s.getsockname()[0]\n",
    "    s.close()\n",
    "    myadress = ip_address\n",
    "    ip_list = []\n",
    "    for i in range(255):\n",
    "        ip =  \".\".join(myadress.split(\".\")[:-1])+f\".{i}\"\n",
    "        # try:\n",
    "        try:\n",
    "            s = socket.socket(socket.AF_INET, socket.SOCK_STREAM)\n",
    "            s.settimeout(0.01)  # 타임아웃을 0.01초로 설정\n",
    "            s.connect((ip, 12345))\n",
    "            t = time.time()\n",
    "            s.send(f\"ping|{name}\".encode())\n",
    "            response = s.recv(1024).decode()\n",
    "            print(f\"ping :{time.time() - t}ms\")\n",
    "            s.close()\n",
    "            ip_list.append(ip)\n",
    "            print(f\"connecting ip : {ip}\")\n",
    "        except:pass\n",
    "        # except (socket.timeout, socket.error):\n",
    "        #     pass\n",
    "    return ip_list\n",
    "\n",
    "green_room = get_list_Green_room(\"김도훈\")"
   ]
  },
  {
   "cell_type": "code",
   "execution_count": 32,
   "metadata": {},
   "outputs": [],
   "source": [
    "\n",
    "def start_client(server_ip='127.0.0.1', server_port=12345):\n",
    "    client_socket = socket.socket(socket.AF_INET, socket.SOCK_STREAM)\n",
    "    client_socket.connect((server_ip, server_port))\n",
    "    message = \"Can I Join?\"\n",
    "    message = \"JOIN|홍당무\"\n",
    "    \n",
    "    client_socket.send(message.encode())\n",
    "    response = client_socket.recv(1024).decode()\n",
    "    print(f'Received from server: {response}')\n",
    "    client_socket.close()\n"
   ]
  },
  {
   "cell_type": "code",
   "execution_count": 35,
   "metadata": {},
   "outputs": [
    {
     "name": "stdout",
     "output_type": "stream",
     "text": [
      "ping :0.0ms\n",
      "Received from server: yes\n"
     ]
    }
   ],
   "source": [
    "server_ip = green_room[0]\n",
    "start_client(server_ip)"
   ]
  },
  {
   "cell_type": "code",
   "execution_count": 48,
   "metadata": {},
   "outputs": [
    {
     "data": {
      "text/plain": [
       "['192.168.0.0',\n",
       " '192.168.0.1',\n",
       " '192.168.0.2',\n",
       " '192.168.0.3',\n",
       " '192.168.0.4',\n",
       " '192.168.0.5',\n",
       " '192.168.0.6',\n",
       " '192.168.0.7',\n",
       " '192.168.0.8',\n",
       " '192.168.0.9',\n",
       " '192.168.0.10',\n",
       " '192.168.0.11',\n",
       " '192.168.0.12',\n",
       " '192.168.0.13',\n",
       " '192.168.0.14',\n",
       " '192.168.0.15',\n",
       " '192.168.0.16',\n",
       " '192.168.0.17',\n",
       " '192.168.0.18',\n",
       " '192.168.0.19',\n",
       " '192.168.0.20',\n",
       " '192.168.0.21',\n",
       " '192.168.0.22',\n",
       " '192.168.0.23',\n",
       " '192.168.0.24',\n",
       " '192.168.0.25',\n",
       " '192.168.0.26',\n",
       " '192.168.0.27',\n",
       " '192.168.0.28',\n",
       " '192.168.0.29',\n",
       " '192.168.0.30',\n",
       " '192.168.0.31',\n",
       " '192.168.0.32',\n",
       " '192.168.0.33',\n",
       " '192.168.0.34',\n",
       " '192.168.0.35',\n",
       " '192.168.0.36',\n",
       " '192.168.0.37',\n",
       " '192.168.0.38',\n",
       " '192.168.0.39',\n",
       " '192.168.0.40',\n",
       " '192.168.0.41',\n",
       " '192.168.0.42',\n",
       " '192.168.0.43',\n",
       " '192.168.0.44',\n",
       " '192.168.0.45',\n",
       " '192.168.0.46',\n",
       " '192.168.0.47',\n",
       " '192.168.0.48',\n",
       " '192.168.0.49',\n",
       " '192.168.0.50',\n",
       " '192.168.0.51',\n",
       " '192.168.0.52',\n",
       " '192.168.0.53',\n",
       " '192.168.0.54',\n",
       " '192.168.0.55',\n",
       " '192.168.0.56',\n",
       " '192.168.0.57',\n",
       " '192.168.0.58',\n",
       " '192.168.0.59',\n",
       " '192.168.0.60',\n",
       " '192.168.0.61',\n",
       " '192.168.0.62',\n",
       " '192.168.0.63',\n",
       " '192.168.0.64',\n",
       " '192.168.0.65',\n",
       " '192.168.0.66',\n",
       " '192.168.0.67',\n",
       " '192.168.0.68',\n",
       " '192.168.0.69',\n",
       " '192.168.0.70',\n",
       " '192.168.0.71',\n",
       " '192.168.0.72',\n",
       " '192.168.0.73',\n",
       " '192.168.0.74',\n",
       " '192.168.0.75',\n",
       " '192.168.0.76',\n",
       " '192.168.0.77',\n",
       " '192.168.0.78',\n",
       " '192.168.0.79',\n",
       " '192.168.0.80',\n",
       " '192.168.0.81',\n",
       " '192.168.0.82',\n",
       " '192.168.0.83',\n",
       " '192.168.0.84',\n",
       " '192.168.0.85',\n",
       " '192.168.0.86',\n",
       " '192.168.0.87',\n",
       " '192.168.0.88',\n",
       " '192.168.0.89',\n",
       " '192.168.0.90',\n",
       " '192.168.0.91',\n",
       " '192.168.0.92',\n",
       " '192.168.0.93',\n",
       " '192.168.0.94',\n",
       " '192.168.0.95',\n",
       " '192.168.0.96',\n",
       " '192.168.0.97',\n",
       " '192.168.0.98',\n",
       " '192.168.0.99',\n",
       " '192.168.0.100',\n",
       " '192.168.0.101',\n",
       " '192.168.0.102',\n",
       " '192.168.0.103',\n",
       " '192.168.0.104',\n",
       " '192.168.0.105',\n",
       " '192.168.0.106',\n",
       " '192.168.0.107',\n",
       " '192.168.0.108',\n",
       " '192.168.0.109',\n",
       " '192.168.0.110',\n",
       " '192.168.0.111',\n",
       " '192.168.0.112',\n",
       " '192.168.0.113',\n",
       " '192.168.0.114',\n",
       " '192.168.0.115',\n",
       " '192.168.0.116',\n",
       " '192.168.0.117',\n",
       " '192.168.0.118',\n",
       " '192.168.0.119',\n",
       " '192.168.0.120',\n",
       " '192.168.0.121',\n",
       " '192.168.0.122',\n",
       " '192.168.0.123',\n",
       " '192.168.0.124',\n",
       " '192.168.0.125',\n",
       " '192.168.0.126',\n",
       " '192.168.0.127',\n",
       " '192.168.0.128',\n",
       " '192.168.0.129',\n",
       " '192.168.0.130',\n",
       " '192.168.0.131',\n",
       " '192.168.0.132',\n",
       " '192.168.0.133',\n",
       " '192.168.0.134',\n",
       " '192.168.0.135',\n",
       " '192.168.0.136',\n",
       " '192.168.0.137',\n",
       " '192.168.0.138',\n",
       " '192.168.0.139',\n",
       " '192.168.0.140',\n",
       " '192.168.0.141',\n",
       " '192.168.0.142',\n",
       " '192.168.0.143',\n",
       " '192.168.0.144',\n",
       " '192.168.0.145',\n",
       " '192.168.0.146',\n",
       " '192.168.0.147',\n",
       " '192.168.0.148',\n",
       " '192.168.0.149',\n",
       " '192.168.0.150',\n",
       " '192.168.0.151',\n",
       " '192.168.0.152',\n",
       " '192.168.0.153',\n",
       " '192.168.0.154',\n",
       " '192.168.0.155',\n",
       " '192.168.0.156',\n",
       " '192.168.0.157',\n",
       " '192.168.0.158',\n",
       " '192.168.0.159',\n",
       " '192.168.0.160',\n",
       " '192.168.0.161',\n",
       " '192.168.0.162',\n",
       " '192.168.0.163',\n",
       " '192.168.0.164',\n",
       " '192.168.0.165',\n",
       " '192.168.0.166',\n",
       " '192.168.0.167',\n",
       " '192.168.0.168',\n",
       " '192.168.0.169',\n",
       " '192.168.0.170',\n",
       " '192.168.0.171',\n",
       " '192.168.0.172',\n",
       " '192.168.0.173',\n",
       " '192.168.0.174',\n",
       " '192.168.0.175',\n",
       " '192.168.0.176',\n",
       " '192.168.0.177',\n",
       " '192.168.0.178',\n",
       " '192.168.0.179',\n",
       " '192.168.0.180',\n",
       " '192.168.0.181',\n",
       " '192.168.0.182',\n",
       " '192.168.0.183',\n",
       " '192.168.0.184',\n",
       " '192.168.0.185',\n",
       " '192.168.0.186',\n",
       " '192.168.0.187',\n",
       " '192.168.0.188',\n",
       " '192.168.0.189',\n",
       " '192.168.0.190',\n",
       " '192.168.0.191',\n",
       " '192.168.0.192',\n",
       " '192.168.0.193',\n",
       " '192.168.0.194',\n",
       " '192.168.0.195',\n",
       " '192.168.0.196',\n",
       " '192.168.0.197',\n",
       " '192.168.0.198',\n",
       " '192.168.0.199',\n",
       " '192.168.0.200',\n",
       " '192.168.0.201',\n",
       " '192.168.0.202',\n",
       " '192.168.0.203',\n",
       " '192.168.0.204',\n",
       " '192.168.0.205',\n",
       " '192.168.0.206',\n",
       " '192.168.0.207',\n",
       " '192.168.0.208',\n",
       " '192.168.0.209',\n",
       " '192.168.0.210',\n",
       " '192.168.0.211',\n",
       " '192.168.0.212',\n",
       " '192.168.0.213',\n",
       " '192.168.0.214',\n",
       " '192.168.0.215',\n",
       " '192.168.0.216',\n",
       " '192.168.0.217',\n",
       " '192.168.0.218',\n",
       " '192.168.0.219',\n",
       " '192.168.0.220',\n",
       " '192.168.0.221',\n",
       " '192.168.0.222',\n",
       " '192.168.0.223',\n",
       " '192.168.0.224',\n",
       " '192.168.0.225',\n",
       " '192.168.0.226',\n",
       " '192.168.0.227',\n",
       " '192.168.0.228',\n",
       " '192.168.0.229',\n",
       " '192.168.0.230',\n",
       " '192.168.0.231',\n",
       " '192.168.0.232',\n",
       " '192.168.0.233',\n",
       " '192.168.0.234',\n",
       " '192.168.0.235',\n",
       " '192.168.0.236',\n",
       " '192.168.0.237',\n",
       " '192.168.0.238',\n",
       " '192.168.0.239',\n",
       " '192.168.0.240',\n",
       " '192.168.0.241',\n",
       " '192.168.0.242',\n",
       " '192.168.0.243',\n",
       " '192.168.0.244',\n",
       " '192.168.0.245',\n",
       " '192.168.0.246',\n",
       " '192.168.0.247',\n",
       " '192.168.0.248',\n",
       " '192.168.0.249',\n",
       " '192.168.0.250',\n",
       " '192.168.0.251',\n",
       " '192.168.0.252',\n",
       " '192.168.0.253',\n",
       " '192.168.0.254']"
      ]
     },
     "execution_count": 48,
     "metadata": {},
     "output_type": "execute_result"
    }
   ],
   "source": [
    "# [(\".\".join(get_my_ip_address().split(\".\")[:-1])+f\".{i}\") for i in range(255)]"
   ]
  },
  {
   "cell_type": "code",
   "execution_count": 4,
   "metadata": {},
   "outputs": [
    {
     "name": "stdout",
     "output_type": "stream",
     "text": [
      "포트 80는 192.168.1.1에서 닫혀 있습니다.\n"
     ]
    }
   ],
   "source": [
    "import socket\n",
    "\n",
    "\n",
    "\n",
    "if __name__ == \"__main__\":\n",
    "    ip_address = \"192.168.1.1\"  # 확인할 IP 주소를 지정하세요\n",
    "    port = 80  # 확인할 포트를 지정하세요\n",
    "    \n",
    "    if is_port_open(ip_address, port):\n",
    "        print(f\"포트 {port}는 {ip_address}에서 열려 있습니다.\")\n",
    "    else:\n",
    "        print(f\"포트 {port}는 {ip_address}에서 닫혀 있습니다.\")\n"
   ]
  },
  {
   "cell_type": "code",
   "execution_count": 2,
   "metadata": {},
   "outputs": [],
   "source": [
    "import socket,time,pickle\n",
    "class Nomal_Client():\n",
    "    def __init__(self,name):\n",
    "        self.name = \"|\"+name\n",
    "        self.client_socket = socket.socket(socket.AF_INET, socket.SOCK_STREAM)\n",
    "\n",
    "        self.ip_list = []\n",
    "        \n",
    "    def get_list_Green_room(self):\n",
    "        s = socket.socket(socket.AF_INET, socket.SOCK_DGRAM)\n",
    "        s.connect((\"8.8.8.8\", 80))\n",
    "        ip_address = s.getsockname()[0]\n",
    "        s.close()\n",
    "        myadress = ip_address\n",
    "        self.ip_list = []\n",
    "        for i in range(255):\n",
    "            ip =  \".\".join(myadress.split(\".\")[:-1])+f\".{i}\"\n",
    "            # try:\n",
    "            try:\n",
    "                s = socket.socket(socket.AF_INET, socket.SOCK_STREAM)\n",
    "                s.settimeout(0.01)  # 타임아웃을 0.01초로 설정\n",
    "                s.connect((ip, 12345))\n",
    "                t = time.time()\n",
    "                s.send(f\"ping|{self.name}\".encode())\n",
    "                response = s.recv(1024).decode()\n",
    "                print(f\"ping :{time.time() - t}ms\")\n",
    "                s.close()\n",
    "                self.ip_list.append(ip)\n",
    "                print(f\"connecting ip : {ip}\")\n",
    "            except:pass\n",
    "            # except (socket.timeout, socket.error):\n",
    "            #     pass\n",
    "        return self.ip_list\n",
    "    \n",
    "    def send_client(self,message,server_ip=\"192.168.0.5\", server_port=12345):\n",
    "        self.client_socket = socket.socket(socket.AF_INET, socket.SOCK_STREAM)\n",
    "        self.client_socket.connect((server_ip, server_port))\n",
    "        message +=self.name\n",
    "        t = time.time()\n",
    "        self.client_socket.send(message.encode())\n",
    "        response = self.client_socket.recv(9192)\n",
    "        self.client_socket.close()\n",
    "        try:\n",
    "            response = response.decode()\n",
    "            print(f\"ping :{time.time() - t}ms\")\n",
    "            print(f'Received from server: {response}')\n",
    "        except:\n",
    "            response = pickle.loads(response)\n",
    "        return response\n"
   ]
  },
  {
   "cell_type": "code",
   "execution_count": 3,
   "metadata": {},
   "outputs": [],
   "source": [
    "client = Nomal_Client(\"김선후\")"
   ]
  },
  {
   "cell_type": "code",
   "execution_count": 46,
   "metadata": {},
   "outputs": [],
   "source": [
    "# client.get_list_Green_room()"
   ]
  },
  {
   "cell_type": "code",
   "execution_count": 47,
   "metadata": {},
   "outputs": [
    {
     "ename": "AttributeError",
     "evalue": "'Nomal_Client' object has no attribute 'stop_client'",
     "output_type": "error",
     "traceback": [
      "\u001b[1;31m---------------------------------------------------------------------------\u001b[0m",
      "\u001b[1;31mAttributeError\u001b[0m                            Traceback (most recent call last)",
      "Cell \u001b[1;32mIn[47], line 1\u001b[0m\n\u001b[1;32m----> 1\u001b[0m \u001b[43mclient\u001b[49m\u001b[38;5;241;43m.\u001b[39;49m\u001b[43mstop_client\u001b[49m()\n",
      "\u001b[1;31mAttributeError\u001b[0m: 'Nomal_Client' object has no attribute 'stop_client'"
     ]
    }
   ],
   "source": [
    "client.stop_client()"
   ]
  },
  {
   "cell_type": "code",
   "execution_count": 48,
   "metadata": {},
   "outputs": [
    {
     "ename": "AttributeError",
     "evalue": "'Nomal_Client' object has no attribute 'start_client'",
     "output_type": "error",
     "traceback": [
      "\u001b[1;31m---------------------------------------------------------------------------\u001b[0m",
      "\u001b[1;31mAttributeError\u001b[0m                            Traceback (most recent call last)",
      "Cell \u001b[1;32mIn[48], line 1\u001b[0m\n\u001b[1;32m----> 1\u001b[0m \u001b[43mclient\u001b[49m\u001b[38;5;241;43m.\u001b[39;49m\u001b[43mstart_client\u001b[49m(\u001b[38;5;124m\"\u001b[39m\u001b[38;5;124m192.168.0.5\u001b[39m\u001b[38;5;124m\"\u001b[39m)\n",
      "\u001b[1;31mAttributeError\u001b[0m: 'Nomal_Client' object has no attribute 'start_client'"
     ]
    }
   ],
   "source": [
    "client.start_client(\"192.168.0.5\")"
   ]
  },
  {
   "cell_type": "code",
   "execution_count": 4,
   "metadata": {},
   "outputs": [
    {
     "name": "stdout",
     "output_type": "stream",
     "text": [
      "ping :0.0010013580322265625ms\n",
      "Received from server: yes\n"
     ]
    },
    {
     "data": {
      "text/plain": [
       "'yes'"
      ]
     },
     "execution_count": 4,
     "metadata": {},
     "output_type": "execute_result"
    }
   ],
   "source": [
    "client.send_client(\"OPEN?\")"
   ]
  },
  {
   "cell_type": "code",
   "execution_count": 8,
   "metadata": {},
   "outputs": [
    {
     "name": "stdout",
     "output_type": "stream",
     "text": [
      "ping :9.210450649261475ms\n",
      "Received from server: yes : 0\n"
     ]
    },
    {
     "data": {
      "text/plain": [
       "'yes : 0'"
      ]
     },
     "execution_count": 8,
     "metadata": {},
     "output_type": "execute_result"
    }
   ],
   "source": [
    "client.send_client(\"JOIN\")"
   ]
  },
  {
   "cell_type": "code",
   "execution_count": 61,
   "metadata": {},
   "outputs": [],
   "source": [
    "data = client.send_client(\"DATA\")"
   ]
  },
  {
   "cell_type": "code",
   "execution_count": 9,
   "metadata": {},
   "outputs": [
    {
     "name": "stdout",
     "output_type": "stream",
     "text": [
      "Received from server: yes\n"
     ]
    }
   ],
   "source": [
    "client.send_client(\"exit\")"
   ]
  },
  {
   "cell_type": "code",
   "execution_count": 19,
   "metadata": {},
   "outputs": [],
   "source": [
    "from data.Algorithem import *\n",
    "from data.Algorithem.global_repository import game_status_repository,round_status_repository,player_status_repository"
   ]
  },
  {
   "cell_type": "code",
   "execution_count": 21,
   "metadata": {},
   "outputs": [],
   "source": [
    "import pickle"
   ]
  },
  {
   "cell_type": "code",
   "execution_count": 63,
   "metadata": {},
   "outputs": [],
   "source": [
    "p=player_status_repository = data[2]"
   ]
  },
  {
   "cell_type": "code",
   "execution_count": 64,
   "metadata": {},
   "outputs": [],
   "source": [
    "g = game_status_repository = data[0]\n",
    "r = round_status_repository = data[1]"
   ]
  },
  {
   "cell_type": "code",
   "execution_count": 59,
   "metadata": {},
   "outputs": [
    {
     "data": {
      "text/plain": [
       "['Pincer', 'Basket', 'Pitchfork']"
      ]
     },
     "execution_count": 59,
     "metadata": {},
     "output_type": "execute_result"
    }
   ],
   "source": [
    "p[0].card.hand_sub_card"
   ]
  },
  {
   "cell_type": "code",
   "execution_count": 62,
   "metadata": {},
   "outputs": [
    {
     "data": {
      "text/plain": [
       "[3, 1, 0, 2, 5, 6, 4, 8, 7, 9, 10, 11, 12, 13]"
      ]
     },
     "execution_count": 62,
     "metadata": {},
     "output_type": "execute_result"
    }
   ],
   "source": [
    "game_status_repository.round_card_order"
   ]
  },
  {
   "cell_type": "code",
   "execution_count": 60,
   "metadata": {},
   "outputs": [
    {
     "data": {
      "text/plain": [
       "0"
      ]
     },
     "execution_count": 60,
     "metadata": {},
     "output_type": "execute_result"
    }
   ],
   "source": [
    "g.now_turn_player"
   ]
  },
  {
   "cell_type": "code",
   "execution_count": 65,
   "metadata": {},
   "outputs": [
    {
     "data": {
      "text/plain": [
       "['JunkWarehouse', 'Manger', 'Pincer']"
      ]
     },
     "execution_count": 65,
     "metadata": {},
     "output_type": "execute_result"
    }
   ],
   "source": [
    "p[0].card.hand_sub_card"
   ]
  },
  {
   "cell_type": "code",
   "execution_count": 66,
   "metadata": {},
   "outputs": [
    {
     "data": {
      "text/plain": [
       "[2, 1, 3, 0, 6, 5, 4, 8, 7, 9, 10, 11, 12, 13]"
      ]
     },
     "execution_count": 66,
     "metadata": {},
     "output_type": "execute_result"
    }
   ],
   "source": [
    "game_status_repository.round_card_order"
   ]
  },
  {
   "cell_type": "code",
   "execution_count": null,
   "metadata": {},
   "outputs": [],
   "source": []
  }
 ],
 "metadata": {
  "kernelspec": {
   "display_name": "Python 3",
   "language": "python",
   "name": "python3"
  },
  "language_info": {
   "codemirror_mode": {
    "name": "ipython",
    "version": 3
   },
   "file_extension": ".py",
   "mimetype": "text/x-python",
   "name": "python",
   "nbconvert_exporter": "python",
   "pygments_lexer": "ipython3",
   "version": "3.12.4"
  }
 },
 "nbformat": 4,
 "nbformat_minor": 2
}
